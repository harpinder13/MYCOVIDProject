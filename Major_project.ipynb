{
 "cells": [
  {
   "cell_type": "markdown",
   "metadata": {},
   "source": [
    "<h1>Major Project- Visualizations - Haryana </h1>"
   ]
  },
  {
   "cell_type": "code",
   "execution_count": 2,
   "metadata": {},
   "outputs": [],
   "source": [
    "import pandas as pd\n",
    "import numpy as np\n",
    "\n",
    "import matplotlib.pyplot as plt\n",
    "import seaborn as sns\n",
    "%matplotlib inline\n"
   ]
  },
  {
   "cell_type": "markdown",
   "metadata": {},
   "source": [
    "<h2>India Dataset (Source: iamdevspk)</h2>"
   ]
  },
  {
   "cell_type": "code",
   "execution_count": 64,
   "metadata": {},
   "outputs": [
    {
     "data": {
      "text/plain": [
       "(1453, 27)"
      ]
     },
     "execution_count": 64,
     "metadata": {},
     "output_type": "execute_result"
    }
   ],
   "source": [
    "data = pd.read_csv('state_level_daily.csv')\n",
    "\n",
    "patients_har=pd.read_csv('patients_data_hr.csv')\n",
    "\n",
    "\n",
    "district_level=pd.read_csv('district_level_latest.csv')\n",
    "\n",
    "data.shape\n",
    "patients_har.shape"
   ]
  },
  {
   "cell_type": "code",
   "execution_count": 48,
   "metadata": {},
   "outputs": [
    {
     "data": {
      "text/html": [
       "<div>\n",
       "<style scoped>\n",
       "    .dataframe tbody tr th:only-of-type {\n",
       "        vertical-align: middle;\n",
       "    }\n",
       "\n",
       "    .dataframe tbody tr th {\n",
       "        vertical-align: top;\n",
       "    }\n",
       "\n",
       "    .dataframe thead th {\n",
       "        text-align: right;\n",
       "    }\n",
       "</style>\n",
       "<table border=\"1\" class=\"dataframe\">\n",
       "  <thead>\n",
       "    <tr style=\"text-align: right;\">\n",
       "      <th></th>\n",
       "      <th>Unnamed: 0</th>\n",
       "      <th>Date</th>\n",
       "      <th>State</th>\n",
       "      <th>Confirmed</th>\n",
       "      <th>Deceased</th>\n",
       "      <th>Recovered</th>\n",
       "      <th>State_Name</th>\n",
       "    </tr>\n",
       "  </thead>\n",
       "  <tbody>\n",
       "    <tr>\n",
       "      <th>0</th>\n",
       "      <td>0</td>\n",
       "      <td>01-Apr-20</td>\n",
       "      <td>AN</td>\n",
       "      <td>0</td>\n",
       "      <td>0</td>\n",
       "      <td>0</td>\n",
       "      <td>Andaman and Nicobar Islands</td>\n",
       "    </tr>\n",
       "    <tr>\n",
       "      <th>1</th>\n",
       "      <td>1</td>\n",
       "      <td>01-Apr-20</td>\n",
       "      <td>AP</td>\n",
       "      <td>67</td>\n",
       "      <td>0</td>\n",
       "      <td>1</td>\n",
       "      <td>Andhra Pradesh</td>\n",
       "    </tr>\n",
       "    <tr>\n",
       "      <th>2</th>\n",
       "      <td>2</td>\n",
       "      <td>01-Apr-20</td>\n",
       "      <td>AR</td>\n",
       "      <td>0</td>\n",
       "      <td>0</td>\n",
       "      <td>0</td>\n",
       "      <td>Arunachal Pradesh</td>\n",
       "    </tr>\n",
       "    <tr>\n",
       "      <th>3</th>\n",
       "      <td>3</td>\n",
       "      <td>01-Apr-20</td>\n",
       "      <td>AS</td>\n",
       "      <td>15</td>\n",
       "      <td>0</td>\n",
       "      <td>0</td>\n",
       "      <td>Assam</td>\n",
       "    </tr>\n",
       "    <tr>\n",
       "      <th>4</th>\n",
       "      <td>4</td>\n",
       "      <td>01-Apr-20</td>\n",
       "      <td>BR</td>\n",
       "      <td>3</td>\n",
       "      <td>0</td>\n",
       "      <td>0</td>\n",
       "      <td>Bihar</td>\n",
       "    </tr>\n",
       "  </tbody>\n",
       "</table>\n",
       "</div>"
      ],
      "text/plain": [
       "   Unnamed: 0       Date State  Confirmed  Deceased  Recovered  \\\n",
       "0           0  01-Apr-20    AN          0         0          0   \n",
       "1           1  01-Apr-20    AP         67         0          1   \n",
       "2           2  01-Apr-20    AR          0         0          0   \n",
       "3           3  01-Apr-20    AS         15         0          0   \n",
       "4           4  01-Apr-20    BR          3         0          0   \n",
       "\n",
       "                    State_Name  \n",
       "0  Andaman and Nicobar Islands  \n",
       "1               Andhra Pradesh  \n",
       "2            Arunachal Pradesh  \n",
       "3                        Assam  \n",
       "4                        Bihar  "
      ]
     },
     "execution_count": 48,
     "metadata": {},
     "output_type": "execute_result"
    }
   ],
   "source": [
    "data.head(5)"
   ]
  },
  {
   "cell_type": "code",
   "execution_count": 55,
   "metadata": {},
   "outputs": [
    {
     "data": {
      "text/html": [
       "<div>\n",
       "<style scoped>\n",
       "    .dataframe tbody tr th:only-of-type {\n",
       "        vertical-align: middle;\n",
       "    }\n",
       "\n",
       "    .dataframe tbody tr th {\n",
       "        vertical-align: top;\n",
       "    }\n",
       "\n",
       "    .dataframe thead th {\n",
       "        text-align: right;\n",
       "    }\n",
       "</style>\n",
       "<table border=\"1\" class=\"dataframe\">\n",
       "  <thead>\n",
       "    <tr style=\"text-align: right;\">\n",
       "      <th></th>\n",
       "      <th>Patient Number</th>\n",
       "      <th>State Patient Number</th>\n",
       "      <th>Date Announced</th>\n",
       "      <th>Estimated Onset Date</th>\n",
       "      <th>Age Bracket</th>\n",
       "      <th>Gender</th>\n",
       "      <th>Detected City</th>\n",
       "      <th>Detected District</th>\n",
       "      <th>Detected State</th>\n",
       "      <th>State code</th>\n",
       "      <th>...</th>\n",
       "      <th>Source_1</th>\n",
       "      <th>Source_2</th>\n",
       "      <th>Source_3</th>\n",
       "      <th>Backup Notes</th>\n",
       "      <th>Num cases</th>\n",
       "      <th>Entry_ID</th>\n",
       "      <th>Num Cases</th>\n",
       "      <th>Address</th>\n",
       "      <th>latitude</th>\n",
       "      <th>longitude</th>\n",
       "    </tr>\n",
       "  </thead>\n",
       "  <tbody>\n",
       "    <tr>\n",
       "      <th>0</th>\n",
       "      <td>7.0</td>\n",
       "      <td>NaN</td>\n",
       "      <td>4/3/2020</td>\n",
       "      <td>NaN</td>\n",
       "      <td>55.0</td>\n",
       "      <td>NaN</td>\n",
       "      <td>Gurugram</td>\n",
       "      <td>Gurugram</td>\n",
       "      <td>Haryana</td>\n",
       "      <td>HR</td>\n",
       "      <td>...</td>\n",
       "      <td>https://indianexpress.com/article/india/corona...</td>\n",
       "      <td>https://www.indiatoday.in/india/story/coronavi...</td>\n",
       "      <td>NaN</td>\n",
       "      <td>Italian tourist</td>\n",
       "      <td>1.0</td>\n",
       "      <td>NaN</td>\n",
       "      <td>NaN</td>\n",
       "      <td>Gurgaon, India</td>\n",
       "      <td>28.459647</td>\n",
       "      <td>77.061922</td>\n",
       "    </tr>\n",
       "    <tr>\n",
       "      <th>1</th>\n",
       "      <td>8.0</td>\n",
       "      <td>NaN</td>\n",
       "      <td>4/3/2020</td>\n",
       "      <td>NaN</td>\n",
       "      <td>55.0</td>\n",
       "      <td>NaN</td>\n",
       "      <td>Gurugram</td>\n",
       "      <td>Gurugram</td>\n",
       "      <td>Haryana</td>\n",
       "      <td>HR</td>\n",
       "      <td>...</td>\n",
       "      <td>https://indianexpress.com/article/india/corona...</td>\n",
       "      <td>https://www.indiatoday.in/india/story/coronavi...</td>\n",
       "      <td>NaN</td>\n",
       "      <td>Italian tourist</td>\n",
       "      <td>1.0</td>\n",
       "      <td>NaN</td>\n",
       "      <td>NaN</td>\n",
       "      <td>Gurgaon, India</td>\n",
       "      <td>28.459647</td>\n",
       "      <td>77.061922</td>\n",
       "    </tr>\n",
       "    <tr>\n",
       "      <th>2</th>\n",
       "      <td>9.0</td>\n",
       "      <td>NaN</td>\n",
       "      <td>4/3/2020</td>\n",
       "      <td>NaN</td>\n",
       "      <td>55.0</td>\n",
       "      <td>NaN</td>\n",
       "      <td>Gurugram</td>\n",
       "      <td>Gurugram</td>\n",
       "      <td>Haryana</td>\n",
       "      <td>HR</td>\n",
       "      <td>...</td>\n",
       "      <td>https://indianexpress.com/article/india/corona...</td>\n",
       "      <td>https://www.indiatoday.in/india/story/coronavi...</td>\n",
       "      <td>NaN</td>\n",
       "      <td>Italian tourist</td>\n",
       "      <td>1.0</td>\n",
       "      <td>NaN</td>\n",
       "      <td>NaN</td>\n",
       "      <td>Gurgaon, India</td>\n",
       "      <td>28.459647</td>\n",
       "      <td>77.061922</td>\n",
       "    </tr>\n",
       "    <tr>\n",
       "      <th>3</th>\n",
       "      <td>10.0</td>\n",
       "      <td>NaN</td>\n",
       "      <td>4/3/2020</td>\n",
       "      <td>NaN</td>\n",
       "      <td>55.0</td>\n",
       "      <td>NaN</td>\n",
       "      <td>Gurugram</td>\n",
       "      <td>Gurugram</td>\n",
       "      <td>Haryana</td>\n",
       "      <td>HR</td>\n",
       "      <td>...</td>\n",
       "      <td>https://indianexpress.com/article/india/corona...</td>\n",
       "      <td>https://www.indiatoday.in/india/story/coronavi...</td>\n",
       "      <td>NaN</td>\n",
       "      <td>Italian tourist</td>\n",
       "      <td>1.0</td>\n",
       "      <td>NaN</td>\n",
       "      <td>NaN</td>\n",
       "      <td>Gurgaon, India</td>\n",
       "      <td>28.459647</td>\n",
       "      <td>77.061922</td>\n",
       "    </tr>\n",
       "    <tr>\n",
       "      <th>4</th>\n",
       "      <td>11.0</td>\n",
       "      <td>NaN</td>\n",
       "      <td>4/3/2020</td>\n",
       "      <td>NaN</td>\n",
       "      <td>55.0</td>\n",
       "      <td>NaN</td>\n",
       "      <td>Gurugram</td>\n",
       "      <td>Gurugram</td>\n",
       "      <td>Haryana</td>\n",
       "      <td>HR</td>\n",
       "      <td>...</td>\n",
       "      <td>https://indianexpress.com/article/india/corona...</td>\n",
       "      <td>https://www.indiatoday.in/india/story/coronavi...</td>\n",
       "      <td>NaN</td>\n",
       "      <td>Italian tourist</td>\n",
       "      <td>1.0</td>\n",
       "      <td>NaN</td>\n",
       "      <td>NaN</td>\n",
       "      <td>Gurgaon, India</td>\n",
       "      <td>28.459647</td>\n",
       "      <td>77.061922</td>\n",
       "    </tr>\n",
       "  </tbody>\n",
       "</table>\n",
       "<p>5 rows × 27 columns</p>\n",
       "</div>"
      ],
      "text/plain": [
       "   Patient Number  State Patient Number Date Announced  Estimated Onset Date  \\\n",
       "0             7.0                   NaN       4/3/2020                   NaN   \n",
       "1             8.0                   NaN       4/3/2020                   NaN   \n",
       "2             9.0                   NaN       4/3/2020                   NaN   \n",
       "3            10.0                   NaN       4/3/2020                   NaN   \n",
       "4            11.0                   NaN       4/3/2020                   NaN   \n",
       "\n",
       "   Age Bracket Gender Detected City Detected District Detected State  \\\n",
       "0         55.0    NaN      Gurugram          Gurugram        Haryana   \n",
       "1         55.0    NaN      Gurugram          Gurugram        Haryana   \n",
       "2         55.0    NaN      Gurugram          Gurugram        Haryana   \n",
       "3         55.0    NaN      Gurugram          Gurugram        Haryana   \n",
       "4         55.0    NaN      Gurugram          Gurugram        Haryana   \n",
       "\n",
       "  State code  ...                                           Source_1  \\\n",
       "0         HR  ...  https://indianexpress.com/article/india/corona...   \n",
       "1         HR  ...  https://indianexpress.com/article/india/corona...   \n",
       "2         HR  ...  https://indianexpress.com/article/india/corona...   \n",
       "3         HR  ...  https://indianexpress.com/article/india/corona...   \n",
       "4         HR  ...  https://indianexpress.com/article/india/corona...   \n",
       "\n",
       "                                            Source_2 Source_3  \\\n",
       "0  https://www.indiatoday.in/india/story/coronavi...      NaN   \n",
       "1  https://www.indiatoday.in/india/story/coronavi...      NaN   \n",
       "2  https://www.indiatoday.in/india/story/coronavi...      NaN   \n",
       "3  https://www.indiatoday.in/india/story/coronavi...      NaN   \n",
       "4  https://www.indiatoday.in/india/story/coronavi...      NaN   \n",
       "\n",
       "      Backup Notes Num cases Entry_ID Num Cases         Address   latitude  \\\n",
       "0  Italian tourist       1.0      NaN       NaN  Gurgaon, India  28.459647   \n",
       "1  Italian tourist       1.0      NaN       NaN  Gurgaon, India  28.459647   \n",
       "2  Italian tourist       1.0      NaN       NaN  Gurgaon, India  28.459647   \n",
       "3  Italian tourist       1.0      NaN       NaN  Gurgaon, India  28.459647   \n",
       "4  Italian tourist       1.0      NaN       NaN  Gurgaon, India  28.459647   \n",
       "\n",
       "   longitude  \n",
       "0  77.061922  \n",
       "1  77.061922  \n",
       "2  77.061922  \n",
       "3  77.061922  \n",
       "4  77.061922  \n",
       "\n",
       "[5 rows x 27 columns]"
      ]
     },
     "execution_count": 55,
     "metadata": {},
     "output_type": "execute_result"
    }
   ],
   "source": [
    "patients_har.head()"
   ]
  },
  {
   "cell_type": "markdown",
   "metadata": {},
   "source": [
    "<h2>Basic Statistics</h2>"
   ]
  },
  {
   "cell_type": "code",
   "execution_count": 37,
   "metadata": {},
   "outputs": [
    {
     "data": {
      "text/html": [
       "<div>\n",
       "<style scoped>\n",
       "    .dataframe tbody tr th:only-of-type {\n",
       "        vertical-align: middle;\n",
       "    }\n",
       "\n",
       "    .dataframe tbody tr th {\n",
       "        vertical-align: top;\n",
       "    }\n",
       "\n",
       "    .dataframe thead th {\n",
       "        text-align: right;\n",
       "    }\n",
       "</style>\n",
       "<table border=\"1\" class=\"dataframe\">\n",
       "  <thead>\n",
       "    <tr style=\"text-align: right;\">\n",
       "      <th></th>\n",
       "      <th>Unnamed: 0</th>\n",
       "      <th>Confirmed</th>\n",
       "      <th>Deceased</th>\n",
       "      <th>Recovered</th>\n",
       "    </tr>\n",
       "  </thead>\n",
       "  <tbody>\n",
       "    <tr>\n",
       "      <th>count</th>\n",
       "      <td>4563.000000</td>\n",
       "      <td>4563.000000</td>\n",
       "      <td>4563.000000</td>\n",
       "      <td>4563.000000</td>\n",
       "    </tr>\n",
       "    <tr>\n",
       "      <th>mean</th>\n",
       "      <td>2281.000000</td>\n",
       "      <td>337.038133</td>\n",
       "      <td>9.268245</td>\n",
       "      <td>208.877931</td>\n",
       "    </tr>\n",
       "    <tr>\n",
       "      <th>std</th>\n",
       "      <td>1317.368969</td>\n",
       "      <td>1607.292009</td>\n",
       "      <td>54.071428</td>\n",
       "      <td>1110.055208</td>\n",
       "    </tr>\n",
       "    <tr>\n",
       "      <th>min</th>\n",
       "      <td>0.000000</td>\n",
       "      <td>-1295.000000</td>\n",
       "      <td>-1.000000</td>\n",
       "      <td>-19.000000</td>\n",
       "    </tr>\n",
       "    <tr>\n",
       "      <th>25%</th>\n",
       "      <td>1140.500000</td>\n",
       "      <td>0.000000</td>\n",
       "      <td>0.000000</td>\n",
       "      <td>0.000000</td>\n",
       "    </tr>\n",
       "    <tr>\n",
       "      <th>50%</th>\n",
       "      <td>2281.000000</td>\n",
       "      <td>8.000000</td>\n",
       "      <td>0.000000</td>\n",
       "      <td>1.000000</td>\n",
       "    </tr>\n",
       "    <tr>\n",
       "      <th>75%</th>\n",
       "      <td>3421.500000</td>\n",
       "      <td>111.000000</td>\n",
       "      <td>1.000000</td>\n",
       "      <td>52.000000</td>\n",
       "    </tr>\n",
       "    <tr>\n",
       "      <th>max</th>\n",
       "      <td>4562.000000</td>\n",
       "      <td>25561.000000</td>\n",
       "      <td>2004.000000</td>\n",
       "      <td>19999.000000</td>\n",
       "    </tr>\n",
       "  </tbody>\n",
       "</table>\n",
       "</div>"
      ],
      "text/plain": [
       "        Unnamed: 0     Confirmed     Deceased     Recovered\n",
       "count  4563.000000   4563.000000  4563.000000   4563.000000\n",
       "mean   2281.000000    337.038133     9.268245    208.877931\n",
       "std    1317.368969   1607.292009    54.071428   1110.055208\n",
       "min       0.000000  -1295.000000    -1.000000    -19.000000\n",
       "25%    1140.500000      0.000000     0.000000      0.000000\n",
       "50%    2281.000000      8.000000     0.000000      1.000000\n",
       "75%    3421.500000    111.000000     1.000000     52.000000\n",
       "max    4562.000000  25561.000000  2004.000000  19999.000000"
      ]
     },
     "execution_count": 37,
     "metadata": {},
     "output_type": "execute_result"
    }
   ],
   "source": [
    "data.describe()"
   ]
  },
  {
   "cell_type": "markdown",
   "metadata": {},
   "source": [
    "<h2>Haryana Data Subset</h2>"
   ]
  },
  {
   "cell_type": "code",
   "execution_count": 65,
   "metadata": {},
   "outputs": [],
   "source": [
    "data_har=data.loc[data['State_Name'] == \"Haryana\"]\n",
    "\n",
    "district_level_har=district_level.loc[district_level['State'] == \"Haryana\"]"
   ]
  },
  {
   "cell_type": "code",
   "execution_count": 52,
   "metadata": {},
   "outputs": [
    {
     "data": {
      "text/html": [
       "<div>\n",
       "<style scoped>\n",
       "    .dataframe tbody tr th:only-of-type {\n",
       "        vertical-align: middle;\n",
       "    }\n",
       "\n",
       "    .dataframe tbody tr th {\n",
       "        vertical-align: top;\n",
       "    }\n",
       "\n",
       "    .dataframe thead th {\n",
       "        text-align: right;\n",
       "    }\n",
       "</style>\n",
       "<table border=\"1\" class=\"dataframe\">\n",
       "  <thead>\n",
       "    <tr style=\"text-align: right;\">\n",
       "      <th></th>\n",
       "      <th>Unnamed: 0</th>\n",
       "      <th>Date</th>\n",
       "      <th>State</th>\n",
       "      <th>Confirmed</th>\n",
       "      <th>Deceased</th>\n",
       "      <th>Recovered</th>\n",
       "      <th>State_Name</th>\n",
       "    </tr>\n",
       "  </thead>\n",
       "  <tbody>\n",
       "    <tr>\n",
       "      <th>13</th>\n",
       "      <td>13</td>\n",
       "      <td>01-Apr-20</td>\n",
       "      <td>HR</td>\n",
       "      <td>0</td>\n",
       "      <td>0</td>\n",
       "      <td>10</td>\n",
       "      <td>Haryana</td>\n",
       "    </tr>\n",
       "    <tr>\n",
       "      <th>52</th>\n",
       "      <td>52</td>\n",
       "      <td>01-Jul-20</td>\n",
       "      <td>HR</td>\n",
       "      <td>393</td>\n",
       "      <td>4</td>\n",
       "      <td>527</td>\n",
       "      <td>Haryana</td>\n",
       "    </tr>\n",
       "    <tr>\n",
       "      <th>91</th>\n",
       "      <td>91</td>\n",
       "      <td>01-Jun-20</td>\n",
       "      <td>HR</td>\n",
       "      <td>265</td>\n",
       "      <td>1</td>\n",
       "      <td>7</td>\n",
       "      <td>Haryana</td>\n",
       "    </tr>\n",
       "    <tr>\n",
       "      <th>130</th>\n",
       "      <td>130</td>\n",
       "      <td>01-May-20</td>\n",
       "      <td>HR</td>\n",
       "      <td>18</td>\n",
       "      <td>0</td>\n",
       "      <td>6</td>\n",
       "      <td>Haryana</td>\n",
       "    </tr>\n",
       "    <tr>\n",
       "      <th>169</th>\n",
       "      <td>169</td>\n",
       "      <td>02-Apr-20</td>\n",
       "      <td>HR</td>\n",
       "      <td>6</td>\n",
       "      <td>0</td>\n",
       "      <td>0</td>\n",
       "      <td>Haryana</td>\n",
       "    </tr>\n",
       "  </tbody>\n",
       "</table>\n",
       "</div>"
      ],
      "text/plain": [
       "     Unnamed: 0       Date State  Confirmed  Deceased  Recovered State_Name\n",
       "13           13  01-Apr-20    HR          0         0         10    Haryana\n",
       "52           52  01-Jul-20    HR        393         4        527    Haryana\n",
       "91           91  01-Jun-20    HR        265         1          7    Haryana\n",
       "130         130  01-May-20    HR         18         0          6    Haryana\n",
       "169         169  02-Apr-20    HR          6         0          0    Haryana"
      ]
     },
     "execution_count": 52,
     "metadata": {},
     "output_type": "execute_result"
    }
   ],
   "source": [
    "data_har.head(5)"
   ]
  },
  {
   "cell_type": "code",
   "execution_count": 8,
   "metadata": {},
   "outputs": [
    {
     "data": {
      "text/html": [
       "<div>\n",
       "<style scoped>\n",
       "    .dataframe tbody tr th:only-of-type {\n",
       "        vertical-align: middle;\n",
       "    }\n",
       "\n",
       "    .dataframe tbody tr th {\n",
       "        vertical-align: top;\n",
       "    }\n",
       "\n",
       "    .dataframe thead th {\n",
       "        text-align: right;\n",
       "    }\n",
       "</style>\n",
       "<table border=\"1\" class=\"dataframe\">\n",
       "  <thead>\n",
       "    <tr style=\"text-align: right;\">\n",
       "      <th></th>\n",
       "      <th>SlNo</th>\n",
       "      <th>State_Code</th>\n",
       "      <th>State</th>\n",
       "      <th>District_Key</th>\n",
       "      <th>District</th>\n",
       "      <th>Confirmed</th>\n",
       "      <th>Active</th>\n",
       "      <th>Recovered</th>\n",
       "      <th>Deceased</th>\n",
       "      <th>Migrated_Other</th>\n",
       "      <th>Delta_Confirmed</th>\n",
       "      <th>Delta_Active</th>\n",
       "      <th>Delta_Recovered</th>\n",
       "      <th>Delta_Deceased</th>\n",
       "      <th>District_Notes</th>\n",
       "      <th>Last_Updated</th>\n",
       "    </tr>\n",
       "  </thead>\n",
       "  <tbody>\n",
       "    <tr>\n",
       "      <th>211</th>\n",
       "      <td>0</td>\n",
       "      <td>HR</td>\n",
       "      <td>Haryana</td>\n",
       "      <td>HR_Foreign Evacuees</td>\n",
       "      <td>Foreign Evacuees</td>\n",
       "      <td>21</td>\n",
       "      <td>0</td>\n",
       "      <td>21</td>\n",
       "      <td>0</td>\n",
       "      <td>0</td>\n",
       "      <td>0</td>\n",
       "      <td>0</td>\n",
       "      <td>0</td>\n",
       "      <td>0</td>\n",
       "      <td>NaN</td>\n",
       "      <td>NaN</td>\n",
       "    </tr>\n",
       "    <tr>\n",
       "      <th>212</th>\n",
       "      <td>190</td>\n",
       "      <td>HR</td>\n",
       "      <td>Haryana</td>\n",
       "      <td>HR_Ambala</td>\n",
       "      <td>Ambala</td>\n",
       "      <td>392</td>\n",
       "      <td>55</td>\n",
       "      <td>332</td>\n",
       "      <td>5</td>\n",
       "      <td>0</td>\n",
       "      <td>0</td>\n",
       "      <td>0</td>\n",
       "      <td>0</td>\n",
       "      <td>0</td>\n",
       "      <td>NaN</td>\n",
       "      <td>NaN</td>\n",
       "    </tr>\n",
       "    <tr>\n",
       "      <th>213</th>\n",
       "      <td>191</td>\n",
       "      <td>HR</td>\n",
       "      <td>Haryana</td>\n",
       "      <td>HR_Bhiwani</td>\n",
       "      <td>Bhiwani</td>\n",
       "      <td>561</td>\n",
       "      <td>137</td>\n",
       "      <td>420</td>\n",
       "      <td>4</td>\n",
       "      <td>0</td>\n",
       "      <td>0</td>\n",
       "      <td>0</td>\n",
       "      <td>0</td>\n",
       "      <td>0</td>\n",
       "      <td>NaN</td>\n",
       "      <td>NaN</td>\n",
       "    </tr>\n",
       "    <tr>\n",
       "      <th>214</th>\n",
       "      <td>192</td>\n",
       "      <td>HR</td>\n",
       "      <td>Haryana</td>\n",
       "      <td>HR_Charkhi Dadri</td>\n",
       "      <td>Charkhi Dadri</td>\n",
       "      <td>89</td>\n",
       "      <td>32</td>\n",
       "      <td>56</td>\n",
       "      <td>1</td>\n",
       "      <td>0</td>\n",
       "      <td>0</td>\n",
       "      <td>0</td>\n",
       "      <td>0</td>\n",
       "      <td>0</td>\n",
       "      <td>NaN</td>\n",
       "      <td>NaN</td>\n",
       "    </tr>\n",
       "    <tr>\n",
       "      <th>215</th>\n",
       "      <td>193</td>\n",
       "      <td>HR</td>\n",
       "      <td>Haryana</td>\n",
       "      <td>HR_Faridabad</td>\n",
       "      <td>Faridabad</td>\n",
       "      <td>4926</td>\n",
       "      <td>980</td>\n",
       "      <td>3849</td>\n",
       "      <td>97</td>\n",
       "      <td>0</td>\n",
       "      <td>0</td>\n",
       "      <td>0</td>\n",
       "      <td>0</td>\n",
       "      <td>0</td>\n",
       "      <td>NaN</td>\n",
       "      <td>NaN</td>\n",
       "    </tr>\n",
       "  </tbody>\n",
       "</table>\n",
       "</div>"
      ],
      "text/plain": [
       "     SlNo State_Code    State         District_Key          District  \\\n",
       "211     0         HR  Haryana  HR_Foreign Evacuees  Foreign Evacuees   \n",
       "212   190         HR  Haryana            HR_Ambala            Ambala   \n",
       "213   191         HR  Haryana           HR_Bhiwani           Bhiwani   \n",
       "214   192         HR  Haryana     HR_Charkhi Dadri     Charkhi Dadri   \n",
       "215   193         HR  Haryana         HR_Faridabad         Faridabad   \n",
       "\n",
       "     Confirmed  Active  Recovered  Deceased  Migrated_Other  Delta_Confirmed  \\\n",
       "211         21       0         21         0               0                0   \n",
       "212        392      55        332         5               0                0   \n",
       "213        561     137        420         4               0                0   \n",
       "214         89      32         56         1               0                0   \n",
       "215       4926     980       3849        97               0                0   \n",
       "\n",
       "     Delta_Active  Delta_Recovered  Delta_Deceased District_Notes  \\\n",
       "211             0                0               0            NaN   \n",
       "212             0                0               0            NaN   \n",
       "213             0                0               0            NaN   \n",
       "214             0                0               0            NaN   \n",
       "215             0                0               0            NaN   \n",
       "\n",
       "     Last_Updated  \n",
       "211           NaN  \n",
       "212           NaN  \n",
       "213           NaN  \n",
       "214           NaN  \n",
       "215           NaN  "
      ]
     },
     "execution_count": 8,
     "metadata": {},
     "output_type": "execute_result"
    }
   ],
   "source": [
    "district_level_har.head(5)"
   ]
  },
  {
   "cell_type": "markdown",
   "metadata": {},
   "source": [
    "<h2> Task 2: Corellation Heat Map of Various parameters - Haryana </h2>"
   ]
  },
  {
   "cell_type": "code",
   "execution_count": 14,
   "metadata": {},
   "outputs": [
    {
     "data": {
      "text/plain": [
       "<matplotlib.axes._subplots.AxesSubplot at 0xa2a0993e48>"
      ]
     },
     "execution_count": 14,
     "metadata": {},
     "output_type": "execute_result"
    },
    {
     "data": {
      "image/png": "[encoded data removed]",
      "text/plain": [
       "<Figure size 792x792 with 2 Axes>"
      ]
     },
     "metadata": {
      "needs_background": "light"
     },
     "output_type": "display_data"
    }
   ],
   "source": [
    "district_level_har = district_level_har[['Confirmed', 'Active', 'Recovered','Deceased']] \n",
    "corrmat = district_level_har.corr()\n",
    "fig, ax = plt.subplots()\n",
    "fig.set_size_inches(11,11)\n",
    "sns.heatmap(corrmat, annot = True, vmin=-1, vmax=1, center= 0) \n"
   ]
  },
  {
   "cell_type": "code",
   "execution_count": 64,
   "metadata": {},
   "outputs": [
    {
     "data": {
      "text/html": [
       "<div style=\"width:100%;\"><div style=\"position:relative;width:100%;height:0;padding-bottom:60%;\"><span style=\"color:#565656\">Make this Notebook Trusted to load map: File -> Trust Notebook</span><iframe src=\"about:blank\" style=\"position:absolute;width:100%;height:100%;left:0;top:0;border:none !important;\" data-html=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 onload=\"this.contentDocument.open();this.contentDocument.write(atob(this.getAttribute('data-html')));this.contentDocument.close();\" allowfullscreen webkitallowfullscreen mozallowfullscreen></iframe></div></div>"
      ],
      "text/plain": [
       "<folium.folium.Map at 0x52615e1bc8>"
      ]
     },
     "execution_count": 64,
     "metadata": {},
     "output_type": "execute_result"
    }
   ],
   "source": [
    "import folium\n",
    "from folium.plugins import FastMarkerCluster\n",
    "\n",
    "map1 = folium.Map(\n",
    "    location=[29.0,76.35],\n",
    "    tiles='cartodbpositron',\n",
    "    zoom_start=7,\n",
    ")\n",
    "\n",
    "FastMarkerCluster(data=list(zip(patients_har['latitude'].values, patients_har['longitude'].values))).add_to(map1)\n",
    "folium.LayerControl().add_to(map1)\n",
    "map1\n"
   ]
  },
  {
   "cell_type": "code",
   "execution_count": null,
   "metadata": {},
   "outputs": [],
   "source": []
  },
  {
   "cell_type": "code",
   "execution_count": null,
   "metadata": {},
   "outputs": [],
   "source": []
  },
  {
   "cell_type": "markdown",
   "metadata": {},
   "source": [
    "<h2>Scatter Plot of Confirmed Cases v/s Deceased</h2>"
   ]
  },
  {
   "cell_type": "code",
   "execution_count": 10,
   "metadata": {},
   "outputs": [
    {
     "data": {
      "image/png": "[encoded data removed]",
      "text/plain": [
       "<Figure size 432x288 with 1 Axes>"
      ]
     },
     "metadata": {
      "needs_background": "light"
     },
     "output_type": "display_data"
    }
   ],
   "source": [
    "# a scatter plot comparing confirmed and deaths\n",
    "data_har.plot(kind='scatter',x='Confirmed',y='Deceased',color='red')\n",
    "plt.show()"
   ]
  },
  {
   "cell_type": "markdown",
   "metadata": {},
   "source": [
    "<h2> Bar Graph of the Increase of the Confirmed Cases </h2>"
   ]
  },
  {
   "cell_type": "code",
   "execution_count": 18,
   "metadata": {},
   "outputs": [
    {
     "data": {
      "text/plain": [
       "Unnamed: 0     int64\n",
       "Date          object\n",
       "State         object\n",
       "Confirmed      int64\n",
       "Deceased       int64\n",
       "Recovered      int64\n",
       "State_Name    object\n",
       "dtype: object"
      ]
     },
     "execution_count": 18,
     "metadata": {},
     "output_type": "execute_result"
    }
   ],
   "source": [
    "data_har.dtypes"
   ]
  },
  {
   "cell_type": "code",
   "execution_count": 19,
   "metadata": {},
   "outputs": [
    {
     "name": "stderr",
     "output_type": "stream",
     "text": [
      "C:\\Users\\HPpc\\.conda\\envs\\geo_env\\lib\\site-packages\\ipykernel_launcher.py:1: SettingWithCopyWarning: \n",
      "A value is trying to be set on a copy of a slice from a DataFrame.\n",
      "Try using .loc[row_indexer,col_indexer] = value instead\n",
      "\n",
      "See the caveats in the documentation: https://pandas.pydata.org/pandas-docs/stable/user_guide/indexing.html#returning-a-view-versus-a-copy\n",
      "  \"\"\"Entry point for launching an IPython kernel.\n"
     ]
    },
    {
     "data": {
      "text/plain": [
       "<matplotlib.axes._subplots.AxesSubplot at 0x5259e4ed08>"
      ]
     },
     "execution_count": 19,
     "metadata": {},
     "output_type": "execute_result"
    },
    {
     "data": {
      "image/png": "[encoded data removed]",
      "text/plain": [
       "<Figure size 1440x720 with 1 Axes>"
      ]
     },
     "metadata": {
      "needs_background": "light"
     },
     "output_type": "display_data"
    }
   ],
   "source": [
    "data_har['Date'] = pd.to_datetime(data_har['Date'])\n",
    "data_har = data_har.sort_values(by=\"Date\")\n",
    "data_har.plot(kind='bar',x='Date',y='Confirmed', figsize=(20,10))"
   ]
  },
  {
   "cell_type": "markdown",
   "metadata": {},
   "source": [
    "<h2> Line Plots of Confirmed v/s Cured </h2>"
   ]
  },
  {
   "cell_type": "code",
   "execution_count": 20,
   "metadata": {},
   "outputs": [
    {
     "data": {
      "image/png": "[encoded data removed]",
      "text/plain": [
       "<Figure size 432x288 with 1 Axes>"
      ]
     },
     "metadata": {
      "needs_background": "light"
     },
     "output_type": "display_data"
    }
   ],
   "source": [
    "ax = plt.gca()\n",
    "\n",
    "data_har.plot(kind='line',x='Date',y='Confirmed',ax=ax)\n",
    "data_har.plot(kind='line',x='Date',y='Recovered', color='red', ax=ax)\n",
    "\n",
    "plt.show()"
   ]
  },
  {
   "cell_type": "markdown",
   "metadata": {},
   "source": [
    "<h2> Comparison of Situation(Confirmed Cases) of Haryana with other States </h2>\n"
   ]
  },
  {
   "cell_type": "code",
   "execution_count": 21,
   "metadata": {},
   "outputs": [
    {
     "data": {
      "text/plain": [
       "<matplotlib.axes._subplots.AxesSubplot at 0x525a3a2bc8>"
      ]
     },
     "execution_count": 21,
     "metadata": {},
     "output_type": "execute_result"
    },
    {
     "data": {
      "image/png": "[encoded data removed]",
      "text/plain": [
       "<Figure size 1440x720 with 1 Axes>"
      ]
     },
     "metadata": {
      "needs_background": "light"
     },
     "output_type": "display_data"
    }
   ],
   "source": [
    "array = ['Haryana', 'Gujrat', 'Punjab', 'Kerala', 'Madhya Pradesh', 'Karnataka', 'Tamil Nadu', 'Rajasthan']\n",
    "data_some=data.loc[data['State_Name'].isin(array)]\n",
    "data2=data_some.groupby('State_Name')['Confirmed'].sum()\n",
    "data2.plot(kind='bar',x='State_Name',y='Confirmed', figsize=(20,10))"
   ]
  },
  {
   "cell_type": "markdown",
   "metadata": {},
   "source": [
    "<h2> Seaborn based Scatter Plot : Cured v/s Deaths in Haryana </h2>"
   ]
  },
  {
   "cell_type": "code",
   "execution_count": 50,
   "metadata": {},
   "outputs": [
    {
     "data": {
      "text/plain": [
       "<seaborn.axisgrid.FacetGrid at 0x16056b38>"
      ]
     },
     "execution_count": 50,
     "metadata": {},
     "output_type": "execute_result"
    },
    {
     "data": {
      "image/png": "[encoded data removed]",
      "text/plain": [
       "<Figure size 360x360 with 1 Axes>"
      ]
     },
     "metadata": {
      "needs_background": "light"
     },
     "output_type": "display_data"
    }
   ],
   "source": [
    "sns.lmplot(x='Cured', y='Deaths', data=data_har)"
   ]
  },
  {
   "cell_type": "markdown",
   "metadata": {},
   "source": [
    "<h2> Task -4: Support vector machine classifier </h2>"
   ]
  },
  {
   "cell_type": "code",
   "execution_count": 18,
   "metadata": {},
   "outputs": [],
   "source": [
    "import scipy.optimize as opt\n",
    "from sklearn import preprocessing\n",
    "from sklearn.model_selection import train_test_split"
   ]
  },
  {
   "cell_type": "code",
   "execution_count": 19,
   "metadata": {},
   "outputs": [
    {
     "data": {
      "text/html": [
       "<div>\n",
       "<style scoped>\n",
       "    .dataframe tbody tr th:only-of-type {\n",
       "        vertical-align: middle;\n",
       "    }\n",
       "\n",
       "    .dataframe tbody tr th {\n",
       "        vertical-align: top;\n",
       "    }\n",
       "\n",
       "    .dataframe thead th {\n",
       "        text-align: right;\n",
       "    }\n",
       "</style>\n",
       "<table border=\"1\" class=\"dataframe\">\n",
       "  <thead>\n",
       "    <tr style=\"text-align: right;\">\n",
       "      <th></th>\n",
       "      <th>Gender_f</th>\n",
       "      <th>Age</th>\n",
       "      <th>Serious_sym</th>\n",
       "      <th>less_sym</th>\n",
       "      <th>most_comm_sym</th>\n",
       "      <th>status</th>\n",
       "      <th>severity_f</th>\n",
       "    </tr>\n",
       "  </thead>\n",
       "  <tbody>\n",
       "    <tr>\n",
       "      <th>0</th>\n",
       "      <td>9</td>\n",
       "      <td>74</td>\n",
       "      <td>9</td>\n",
       "      <td>9</td>\n",
       "      <td>9</td>\n",
       "      <td>1</td>\n",
       "      <td>0</td>\n",
       "    </tr>\n",
       "    <tr>\n",
       "      <th>1</th>\n",
       "      <td>9</td>\n",
       "      <td>62</td>\n",
       "      <td>9</td>\n",
       "      <td>9</td>\n",
       "      <td>9</td>\n",
       "      <td>1</td>\n",
       "      <td>0</td>\n",
       "    </tr>\n",
       "    <tr>\n",
       "      <th>2</th>\n",
       "      <td>9</td>\n",
       "      <td>24</td>\n",
       "      <td>9</td>\n",
       "      <td>9</td>\n",
       "      <td>9</td>\n",
       "      <td>1</td>\n",
       "      <td>0</td>\n",
       "    </tr>\n",
       "    <tr>\n",
       "      <th>3</th>\n",
       "      <td>1</td>\n",
       "      <td>17</td>\n",
       "      <td>9</td>\n",
       "      <td>9</td>\n",
       "      <td>9</td>\n",
       "      <td>1</td>\n",
       "      <td>0</td>\n",
       "    </tr>\n",
       "    <tr>\n",
       "      <th>4</th>\n",
       "      <td>1</td>\n",
       "      <td>35</td>\n",
       "      <td>9</td>\n",
       "      <td>9</td>\n",
       "      <td>9</td>\n",
       "      <td>1</td>\n",
       "      <td>0</td>\n",
       "    </tr>\n",
       "  </tbody>\n",
       "</table>\n",
       "</div>"
      ],
      "text/plain": [
       "   Gender_f  Age   Serious_sym  less_sym  most_comm_sym  status  severity_f\n",
       "0         9    74            9         9              9       1           0\n",
       "1         9    62            9         9              9       1           0\n",
       "2         9    24            9         9              9       1           0\n",
       "3         1    17            9         9              9       1           0\n",
       "4         1    35            9         9              9       1           0"
      ]
     },
     "execution_count": 19,
     "metadata": {},
     "output_type": "execute_result"
    }
   ],
   "source": [
    "cell_df = pd.read_csv('PAML_COVID_Dataset_up.csv')\n",
    "cell_df.head()"
   ]
  },
  {
   "cell_type": "code",
   "execution_count": 28,
   "metadata": {},
   "outputs": [
    {
     "data": {
      "image/png": "[encoded data removed]",
      "text/plain": [
       "<Figure size 432x288 with 1 Axes>"
      ]
     },
     "metadata": {
      "needs_background": "light"
     },
     "output_type": "display_data"
    }
   ],
   "source": [
    "ax = cell_df[cell_df['severity_f'] == 0][0:50].plot(kind='scatter', x='Serious_sym', y='less_sym', color='DarkBlue', label='Mild');\n",
    "cell_df[cell_df['severity_f'] == 1][0:50].plot(kind='scatter', x='Serious_sym', y='less_sym', color='Yellow', label='Moderate',ax=ax);\n",
    "cell_df[cell_df['severity_f'] == 2][0:50].plot(kind='scatter', x='Serious_sym', y='less_sym', color='Red', label='Severe', ax=ax);\n",
    "\n",
    "plt.show()"
   ]
  },
  {
   "cell_type": "code",
   "execution_count": 29,
   "metadata": {},
   "outputs": [
    {
     "data": {
      "text/plain": [
       "Gender_f         int64\n",
       "Age              int64\n",
       "Serious_sym      int64\n",
       "less_sym         int64\n",
       "most_comm_sym    int64\n",
       "status           int64\n",
       "severity_f       int64\n",
       "dtype: object"
      ]
     },
     "execution_count": 29,
     "metadata": {},
     "output_type": "execute_result"
    }
   ],
   "source": [
    "cell_df.dtypes"
   ]
  },
  {
   "cell_type": "code",
   "execution_count": 30,
   "metadata": {},
   "outputs": [],
   "source": [
    "X = dataset.iloc[:, 0:6].values\n",
    "y = dataset.iloc[:, 6].values"
   ]
  },
  {
   "cell_type": "code",
   "execution_count": 32,
   "metadata": {},
   "outputs": [
    {
     "name": "stdout",
     "output_type": "stream",
     "text": [
      "[[ 9 74  9  9  9  1]\n",
      " [ 9 62  9  9  9  1]\n",
      " [ 9 24  9  9  9  1]\n",
      " ...\n",
      " [ 1 52  2  6  2  9]\n",
      " [ 1 55  2  6  2  9]\n",
      " [ 1 93  2  6  2  9]]\n",
      "[0 0 0 ... 2 2 2]\n"
     ]
    }
   ],
   "source": [
    "print(X)\n",
    "print(y)"
   ]
  },
  {
   "cell_type": "code",
   "execution_count": 33,
   "metadata": {},
   "outputs": [
    {
     "name": "stdout",
     "output_type": "stream",
     "text": [
      "Train set: (2508, 6) (2508,)\n",
      "Test set: (627, 6) (627,)\n"
     ]
    }
   ],
   "source": [
    "X_train, X_test, y_train, y_test = train_test_split( X, y, test_size=0.2, random_state=4)\n",
    "print ('Train set:', X_train.shape,  y_train.shape)\n",
    "print ('Test set:', X_test.shape,  y_test.shape)"
   ]
  },
  {
   "cell_type": "code",
   "execution_count": 54,
   "metadata": {},
   "outputs": [
    {
     "data": {
      "text/plain": [
       "SVC(kernel='linear')"
      ]
     },
     "execution_count": 54,
     "metadata": {},
     "output_type": "execute_result"
    }
   ],
   "source": [
    "from sklearn import svm\n",
    "clf = svm.SVC(kernel='linear')\n",
    "clf.fit(X_train, y_train) "
   ]
  },
  {
   "cell_type": "code",
   "execution_count": 55,
   "metadata": {},
   "outputs": [
    {
     "data": {
      "text/plain": [
       "array([1, 1, 1, 2, 1], dtype=int64)"
      ]
     },
     "execution_count": 55,
     "metadata": {},
     "output_type": "execute_result"
    }
   ],
   "source": [
    "yhat = clf.predict(X_test)\n",
    "yhat [0:5]"
   ]
  },
  {
   "cell_type": "code",
   "execution_count": 56,
   "metadata": {},
   "outputs": [],
   "source": [
    "from sklearn.metrics import classification_report, confusion_matrix\n",
    "import itertools"
   ]
  },
  {
   "cell_type": "code",
   "execution_count": 57,
   "metadata": {},
   "outputs": [],
   "source": [
    "def plot_confusion_matrix(cm, classes,\n",
    "                          normalize=False,\n",
    "                          title='Confusion matrix',\n",
    "                          cmap=plt.cm.Blues):\n",
    "    \"\"\"\n",
    "    This function prints and plots the confusion matrix.\n",
    "    Normalization can be applied by setting `normalize=True`.\n",
    "    \"\"\"\n",
    "    if normalize:\n",
    "        cm = cm.astype('float') / cm.sum(axis=1)[:, np.newaxis]\n",
    "        print(\"Normalized confusion matrix\")\n",
    "    else:\n",
    "        print('Confusion matrix, without normalization')\n",
    "\n",
    "    print(cm)\n",
    "\n",
    "    plt.imshow(cm, interpolation='nearest', cmap=cmap)\n",
    "    plt.title(title)\n",
    "    plt.colorbar()\n",
    "    tick_marks = np.arange(len(classes))\n",
    "    plt.xticks(tick_marks, classes, rotation=45)\n",
    "    plt.yticks(tick_marks, classes)\n",
    "\n",
    "    fmt = '.2f' if normalize else 'd'\n",
    "    thresh = cm.max() / 2.\n",
    "    for i, j in itertools.product(range(cm.shape[0]), range(cm.shape[1])):\n",
    "        plt.text(j, i, format(cm[i, j], fmt),\n",
    "                 horizontalalignment=\"center\",\n",
    "                 color=\"white\" if cm[i, j] > thresh else \"black\")\n",
    "\n",
    "    plt.tight_layout()\n",
    "    plt.ylabel('True label')\n",
    "    plt.xlabel('Predicted label')"
   ]
  },
  {
   "cell_type": "code",
   "execution_count": 58,
   "metadata": {},
   "outputs": [
    {
     "name": "stdout",
     "output_type": "stream",
     "text": [
      "              precision    recall  f1-score   support\n",
      "\n",
      "           0       0.28      0.10      0.15       204\n",
      "           1       0.36      0.71      0.48       218\n",
      "           2       0.34      0.21      0.26       205\n",
      "\n",
      "    accuracy                           0.35       627\n",
      "   macro avg       0.33      0.34      0.30       627\n",
      "weighted avg       0.33      0.35      0.30       627\n",
      "\n",
      "Confusion matrix, without normalization\n",
      "[[ 20 132  52]\n",
      " [ 29 154  35]\n",
      " [ 22 139  44]]\n"
     ]
    },
    {
     "data": {
      "image/png": "[encoded data removed]",
      "text/plain": [
       "<Figure size 432x288 with 2 Axes>"
      ]
     },
     "metadata": {
      "needs_background": "light"
     },
     "output_type": "display_data"
    }
   ],
   "source": [
    "# Compute confusion matrix\n",
    "cnf_matrix = confusion_matrix(y_test, yhat, labels=[0,1,2])\n",
    "np.set_printoptions(precision=2)\n",
    "\n",
    "print (classification_report(y_test, yhat))\n",
    "\n",
    "# Plot non-normalized confusion matrix\n",
    "plt.figure()\n",
    "plot_confusion_matrix(cnf_matrix, classes=['Mild(0)','Moderate(1)','Severe(2)'],normalize= False,  title='Confusion matrix')\n",
    "\n"
   ]
  },
  {
   "cell_type": "code",
   "execution_count": null,
   "metadata": {},
   "outputs": [],
   "source": []
  },
  {
   "cell_type": "code",
   "execution_count": null,
   "metadata": {},
   "outputs": [],
   "source": []
  },
  {
   "cell_type": "code",
   "execution_count": null,
   "metadata": {},
   "outputs": [],
   "source": []
  },
  {
   "cell_type": "code",
   "execution_count": null,
   "metadata": {},
   "outputs": [],
   "source": []
  },
  {
   "cell_type": "markdown",
   "metadata": {},
   "source": [
    "<h2> Task 3: Regression </h2>"
   ]
  },
  {
   "cell_type": "code",
   "execution_count": 66,
   "metadata": {},
   "outputs": [
    {
     "data": {
      "text/html": [
       "<div>\n",
       "<style scoped>\n",
       "    .dataframe tbody tr th:only-of-type {\n",
       "        vertical-align: middle;\n",
       "    }\n",
       "\n",
       "    .dataframe tbody tr th {\n",
       "        vertical-align: top;\n",
       "    }\n",
       "\n",
       "    .dataframe thead th {\n",
       "        text-align: right;\n",
       "    }\n",
       "</style>\n",
       "<table border=\"1\" class=\"dataframe\">\n",
       "  <thead>\n",
       "    <tr style=\"text-align: right;\">\n",
       "      <th></th>\n",
       "      <th>Unnamed: 0</th>\n",
       "      <th>Date</th>\n",
       "      <th>State</th>\n",
       "      <th>Confirmed</th>\n",
       "      <th>Deceased</th>\n",
       "      <th>Recovered</th>\n",
       "      <th>State_Name</th>\n",
       "    </tr>\n",
       "  </thead>\n",
       "  <tbody>\n",
       "    <tr>\n",
       "      <th>13</th>\n",
       "      <td>13</td>\n",
       "      <td>01-Apr-20</td>\n",
       "      <td>HR</td>\n",
       "      <td>0</td>\n",
       "      <td>0</td>\n",
       "      <td>10</td>\n",
       "      <td>Haryana</td>\n",
       "    </tr>\n",
       "    <tr>\n",
       "      <th>52</th>\n",
       "      <td>52</td>\n",
       "      <td>01-Jul-20</td>\n",
       "      <td>HR</td>\n",
       "      <td>393</td>\n",
       "      <td>4</td>\n",
       "      <td>527</td>\n",
       "      <td>Haryana</td>\n",
       "    </tr>\n",
       "    <tr>\n",
       "      <th>91</th>\n",
       "      <td>91</td>\n",
       "      <td>01-Jun-20</td>\n",
       "      <td>HR</td>\n",
       "      <td>265</td>\n",
       "      <td>1</td>\n",
       "      <td>7</td>\n",
       "      <td>Haryana</td>\n",
       "    </tr>\n",
       "    <tr>\n",
       "      <th>130</th>\n",
       "      <td>130</td>\n",
       "      <td>01-May-20</td>\n",
       "      <td>HR</td>\n",
       "      <td>18</td>\n",
       "      <td>0</td>\n",
       "      <td>6</td>\n",
       "      <td>Haryana</td>\n",
       "    </tr>\n",
       "    <tr>\n",
       "      <th>169</th>\n",
       "      <td>169</td>\n",
       "      <td>02-Apr-20</td>\n",
       "      <td>HR</td>\n",
       "      <td>6</td>\n",
       "      <td>0</td>\n",
       "      <td>0</td>\n",
       "      <td>Haryana</td>\n",
       "    </tr>\n",
       "  </tbody>\n",
       "</table>\n",
       "</div>"
      ],
      "text/plain": [
       "     Unnamed: 0       Date State  Confirmed  Deceased  Recovered State_Name\n",
       "13           13  01-Apr-20    HR          0         0         10    Haryana\n",
       "52           52  01-Jul-20    HR        393         4        527    Haryana\n",
       "91           91  01-Jun-20    HR        265         1          7    Haryana\n",
       "130         130  01-May-20    HR         18         0          6    Haryana\n",
       "169         169  02-Apr-20    HR          6         0          0    Haryana"
      ]
     },
     "execution_count": 66,
     "metadata": {},
     "output_type": "execute_result"
    }
   ],
   "source": [
    "data_har.head(5)"
   ]
  },
  {
   "cell_type": "code",
   "execution_count": 68,
   "metadata": {},
   "outputs": [
    {
     "data": {
      "image/png": "[encoded data removed]",
      "text/plain": [
       "<Figure size 432x288 with 1 Axes>"
      ]
     },
     "metadata": {
      "needs_background": "light"
     },
     "output_type": "display_data"
    }
   ],
   "source": [
    "data_har.plot(x='Confirmed', y='Deceased', style='o')  \n",
    "plt.title('Confirmed vs Deceased')  \n",
    "plt.xlabel('Confirmed')  \n",
    "plt.ylabel('Deceased')  \n",
    "plt.show()"
   ]
  },
  {
   "cell_type": "code",
   "execution_count": 70,
   "metadata": {},
   "outputs": [],
   "source": [
    "X = data_har['Confirmed'].values.reshape(-1,1)\n",
    "y = data_har['Deceased'].values.reshape(-1,1)"
   ]
  },
  {
   "cell_type": "code",
   "execution_count": 71,
   "metadata": {},
   "outputs": [],
   "source": [
    "X_train, X_test, y_train, y_test = train_test_split(X, y, test_size=0.2, random_state=0)"
   ]
  },
  {
   "cell_type": "code",
   "execution_count": 73,
   "metadata": {},
   "outputs": [
    {
     "data": {
      "text/plain": [
       "LinearRegression()"
      ]
     },
     "execution_count": 73,
     "metadata": {},
     "output_type": "execute_result"
    }
   ],
   "source": [
    "from sklearn.model_selection import train_test_split \n",
    "from sklearn.linear_model import LinearRegression\n",
    "from sklearn import metrics\n",
    "regressor = LinearRegression()  \n",
    "regressor.fit(X_train, y_train) #training the algorithm"
   ]
  },
  {
   "cell_type": "code",
   "execution_count": 74,
   "metadata": {},
   "outputs": [
    {
     "name": "stdout",
     "output_type": "stream",
     "text": [
      "[-0.11]\n",
      "[[0.02]]\n"
     ]
    }
   ],
   "source": [
    "#To retrieve the intercept:\n",
    "print(regressor.intercept_)\n",
    "#For retrieving the slope:\n",
    "print(regressor.coef_)"
   ]
  },
  {
   "cell_type": "code",
   "execution_count": 75,
   "metadata": {},
   "outputs": [],
   "source": [
    "y_pred = regressor.predict(X_test)"
   ]
  },
  {
   "cell_type": "code",
   "execution_count": 77,
   "metadata": {},
   "outputs": [
    {
     "data": {
      "image/png": "[encoded data removed]",
      "text/plain": [
       "<Figure size 432x288 with 1 Axes>"
      ]
     },
     "metadata": {
      "needs_background": "light"
     },
     "output_type": "display_data"
    }
   ],
   "source": [
    "plt.scatter(X_test, y_test,  color='gray')\n",
    "plt.plot(X_test, y_pred, color='red', linewidth=2)\n",
    "plt.show()"
   ]
  },
  {
   "cell_type": "code",
   "execution_count": 78,
   "metadata": {},
   "outputs": [
    {
     "name": "stdout",
     "output_type": "stream",
     "text": [
      "Mean Absolute Error: 1.4822403308239183\n",
      "Mean Squared Error: 5.493286923472937\n",
      "Root Mean Squared Error: 2.3437762101943385\n"
     ]
    }
   ],
   "source": [
    "print('Mean Absolute Error:', metrics.mean_absolute_error(y_test, y_pred))  \n",
    "print('Mean Squared Error:', metrics.mean_squared_error(y_test, y_pred))  \n",
    "print('Root Mean Squared Error:', np.sqrt(metrics.mean_squared_error(y_test, y_pred)))"
   ]
  },
  {
   "cell_type": "code",
   "execution_count": 69,
   "metadata": {},
   "outputs": [
    {
     "data": {
      "image/png": "[encoded data removed]",
      "text/plain": [
       "<Figure size 432x288 with 1 Axes>"
      ]
     },
     "metadata": {
      "needs_background": "light"
     },
     "output_type": "display_data"
    }
   ],
   "source": [
    "data_har.plot(x='Confirmed', y='Recovered', style='o')  \n",
    "plt.title('Confirmed vs Recovered')  \n",
    "plt.xlabel('Confirmed')  \n",
    "plt.ylabel('Recovered')  \n",
    "plt.show()"
   ]
  },
  {
   "cell_type": "code",
   "execution_count": null,
   "metadata": {},
   "outputs": [],
   "source": [
    "X = data_har['Confirmed'].values.reshape(-1,1)\n",
    "y = data_har['Recovered'].values.reshape(-1,1)"
   ]
  },
  {
   "cell_type": "code",
   "execution_count": 79,
   "metadata": {},
   "outputs": [
    {
     "data": {
      "image/png": "[encoded data removed]",
      "text/plain": [
       "<Figure size 432x288 with 1 Axes>"
      ]
     },
     "metadata": {
      "needs_background": "light"
     },
     "output_type": "display_data"
    },
    {
     "name": "stdout",
     "output_type": "stream",
     "text": [
      "Mean Absolute Error: 1.4822403308239183\n",
      "Mean Squared Error: 5.493286923472937\n",
      "Root Mean Squared Error: 2.3437762101943385\n"
     ]
    }
   ],
   "source": [
    "X_train, X_test, y_train, y_test = train_test_split(X, y, test_size=0.2, random_state=0)\n",
    "regressor = LinearRegression()  \n",
    "regressor.fit(X_train, y_train) #training the algorithm\n",
    "y_pred = regressor.predict(X_test)\n",
    "plt.scatter(X_test, y_test,  color='gray')\n",
    "plt.plot(X_test, y_pred, color='red', linewidth=2)\n",
    "plt.show()\n",
    "print('Mean Absolute Error:', metrics.mean_absolute_error(y_test, y_pred))  \n",
    "print('Mean Squared Error:', metrics.mean_squared_error(y_test, y_pred))  \n",
    "print('Root Mean Squared Error:', np.sqrt(metrics.mean_squared_error(y_test, y_pred)))"
   ]
  },
  {
   "cell_type": "code",
   "execution_count": null,
   "metadata": {},
   "outputs": [],
   "source": []
  }
 ],
 "metadata": {
  "kernelspec": {
   "display_name": "Python 3",
   "language": "python",
   "name": "python3"
  },
  "language_info": {
   "codemirror_mode": {
    "name": "ipython",
    "version": 3
   },
   "file_extension": ".py",
   "mimetype": "text/x-python",
   "name": "python",
   "nbconvert_exporter": "python",
   "pygments_lexer": "ipython3",
   "version": "3.7.7"
  }
 },
 "nbformat": 4,
 "nbformat_minor": 2
}
