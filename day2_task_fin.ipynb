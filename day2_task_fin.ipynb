{
 "cells": [
  {
   "cell_type": "code",
   "execution_count": 3,
   "metadata": {},
   "outputs": [],
   "source": [
    "#dictionary\n",
    "dict={\"Maharashtra\":79091,\"Tamil Nadu\":39589,\"Delhi\":27007,\"Gujarat\":7335,\"Uttar Pradesh\":6709}\n"
   ]
  },
  {
   "cell_type": "code",
   "execution_count": 4,
   "metadata": {},
   "outputs": [
    {
     "data": {
      "text/plain": [
       "{'Delhi': 27007,\n",
       " 'Gujarat': 7335,\n",
       " 'Maharashtra': 79091,\n",
       " 'Tamil Nadu': 39589,\n",
       " 'Uttar Pradesh': 6709}"
      ]
     },
     "execution_count": 4,
     "metadata": {},
     "output_type": "execute_result"
    }
   ],
   "source": [
    "dict"
   ]
  },
  {
   "cell_type": "code",
   "execution_count": 6,
   "metadata": {},
   "outputs": [
    {
     "name": "stdout",
     "output_type": "stream",
     "text": [
      "Recovered COVID patients , state wise\n",
      "Maharashtra: 93154\n",
      "Tamil Nadu: 52926\n",
      "Delhi: 59992\n",
      "Gujarat: 24030\n",
      "Uttar Pradesh: 16629\n"
     ]
    }
   ],
   "source": [
    "#tuple\n",
    "tuple_a=(\"Maharashtra\",\"Tamil Nadu\",\"Delhi\",\"Gujarat\",\"Uttar Pradesh\")\n",
    "tuple_b=(93154,52926,59992,24030,16629)\n",
    "print(\"Recovered COVID patients , state wise\")\n",
    "for j in range(len(tuple_a)):\n",
    " print(tuple_a[j]+\": \"+str(tuple_b[j]))"
   ]
  },
  {
   "cell_type": "code",
   "execution_count": 7,
   "metadata": {},
   "outputs": [
    {
     "name": "stdout",
     "output_type": "stream",
     "text": [
      "Recovered COVID patients , state wise\n",
      "Maharashtra: 93154\n",
      "Tamil Nadu: 52926\n",
      "Delhi: 59992\n",
      "Gujarat: 24030\n",
      "Uttar Pradesh: 16629\n"
     ]
    }
   ],
   "source": [
    "#list\n",
    "list_a=[\"Maharashtra\",\"Tamil Nadu\",\"Delhi\",\"Gujarat\",\"Uttar Pradesh\"]\n",
    "list_b=[93154,52926,59992,24030,16629]\n",
    "print(\"Recovered COVID patients , state wise\")\n",
    "for j in range(len(list_a)):\n",
    " print(list_a[j]+\": \"+str(list_b[j]))"
   ]
  },
  {
   "cell_type": "code",
   "execution_count": null,
   "metadata": {},
   "outputs": [],
   "source": []
  }
 ],
 "metadata": {
  "kernelspec": {
   "display_name": "Python 2",
   "language": "python",
   "name": "python2"
  },
  "language_info": {
   "codemirror_mode": {
    "name": "ipython",
    "version": 2
   },
   "file_extension": ".py",
   "mimetype": "text/x-python",
   "name": "python",
   "nbconvert_exporter": "python",
   "pygments_lexer": "ipython2",
   "version": "2.7.16"
  }
 },
 "nbformat": 4,
 "nbformat_minor": 2
}
